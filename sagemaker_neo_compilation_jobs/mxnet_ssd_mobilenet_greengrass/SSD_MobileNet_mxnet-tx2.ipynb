{
 "cells": [
  {
   "cell_type": "markdown",
   "metadata": {},
   "source": [
    "# Compile and deploy pretrained SSD mobilenet model on Jetson TX2"
   ]
  },
  {
   "cell_type": "markdown",
   "metadata": {},
   "source": [
    "The purpose for this project is to use Neo to compile a pretrained model and then use Greengrass to deploy on Jetson TX2.\n",
    "\n",
    "## Setup\n",
    "\n",
    "Before started, please setup Jetson TX2 following https://alpha-docs-aws.amazon.com/greengrass/latest/developerguide/setup-filter.other.html. \n",
    "After setting up environment for TX2, following [AWS IoT Greengrass Software Download Links](https://alpha-docs-aws.amazon.com/greengrass/latest/downloadlinks/gg-software.html) to download [AWS IoT Greengrass Core Software](https://alpha-docs-aws.amazon.com/greengrass/latest/developerguide/lambda-functions.html#lambda-sdks-core) and install properly on device.\n",
    "\n",
    "To compile the Object Detection model on Amazon SageMaker, we also need to setup and authenticate the use of AWS services. To begin with we need an AWS account role with SageMaker access. This role is used to give SageMaker access to your data in S3 will automatically be obtained from the role used to start the notebook."
   ]
  },
  {
   "cell_type": "code",
   "execution_count": null,
   "metadata": {},
   "outputs": [],
   "source": [
    "import boto3\n",
    "import sagemaker\n",
    "import time\n",
    "import json\n",
    "from sagemaker.utils import name_from_base\n",
    "from sagemaker import get_execution_role \n",
    "from sagemaker.model import NEO_IMAGE_ACCOUNT\n",
    "from sagemaker.fw_utils import create_image_uri"
   ]
  },
  {
   "cell_type": "code",
   "execution_count": null,
   "metadata": {},
   "outputs": [],
   "source": [
    "role = get_execution_role() \n",
    "print(role)"
   ]
  },
  {
   "cell_type": "markdown",
   "metadata": {},
   "source": [
    "Go to AWS service console and then search for `IAM`. Click on `Role` on the left sidebar, find the above role, attach the following policies to that role.\n",
    "\n",
    "- AWSGreengrassFullAccess\n",
    "- AWSGreengrassResourceAccessRolePolicy\n",
    "- AWSIoTFullAccess\n",
    "- AWSLambdaRole \n",
    "\n",
    "**Note: Policy ARN of `AWSLambdaRole` will be used later when create lambda function**"
   ]
  },
  {
   "cell_type": "code",
   "execution_count": null,
   "metadata": {},
   "outputs": [],
   "source": [
    "sess = sagemaker.Session()\n",
    "region = sess.boto_region_name\n",
    "account = sess.boto_session.client('sts').get_caller_identity()['Account']\n",
    "framework = 'mxnet'\n",
    "framework_version = '1.4.1'\n",
    "bucket = sess.default_bucket()\n",
    "prefix = 'your_prefix'"
   ]
  },
  {
   "cell_type": "markdown",
   "metadata": {},
   "source": [
    "Amazon SageMaker provides prebuilt Docker images that include deep learning framework libraries and other dependencies needed for training and inference. Check here for a list of available [SageMaker container images](https://docs.aws.amazon.com/sagemaker/latest/dg/neo-deployment-hosting-services-console.html)."
   ]
  },
  {
   "cell_type": "code",
   "execution_count": null,
   "metadata": {},
   "outputs": [],
   "source": [
    "# target device is not the device we are using here, it's a aws instance, which the container image was build on\n",
    "target_device = 'ml_p3'\n",
    "image_url = create_image_uri(region, \n",
    "                             'neo-' + framework.lower(), \n",
    "                             target_device.replace('_', '.'),\n",
    "                             framework_version, \n",
    "                             py_version='py3', \n",
    "                             account=NEO_IMAGE_ACCOUNT[region]\n",
    "                            )\n",
    "print(image_url)"
   ]
  },
  {
   "cell_type": "markdown",
   "metadata": {},
   "source": [
    "## The Preprocess and Postprocess Script\n",
    "\n",
    "The `entry_point.py` script provides the preprocess and postprocess methods that we need to correctly process the input image."
   ]
  },
  {
   "cell_type": "code",
   "execution_count": null,
   "metadata": {},
   "outputs": [],
   "source": [
    "!cat entry_point.py"
   ]
  },
  {
   "cell_type": "markdown",
   "metadata": {},
   "source": [
    "## Import pretrained mobilenet model\n",
    "\n",
    "First we need to get the pretrained model from model zoo, then we should compress the `model.json` and `model.params`  and upload the tarball to a S3 bucket for the SageMaker Python SDK to compile.\n",
    "\n",
    "You can read more about creating an `MXNetModel` object in the [SageMaker Python SDK API docs](https://sagemaker.readthedocs.io/en/stable/sagemaker.mxnet.html#mxnet-model)."
   ]
  },
  {
   "cell_type": "markdown",
   "metadata": {},
   "source": [
    "### Download pretrained model\n",
    "Use the `get_model.py` script to download pretrained `ssd_512_mobilenet1.0_voc` model from gluoncv model zoo."
   ]
  },
  {
   "cell_type": "code",
   "execution_count": null,
   "metadata": {},
   "outputs": [],
   "source": [
    "!python3 get_model.py"
   ]
  },
  {
   "cell_type": "markdown",
   "metadata": {},
   "source": [
    "Compress the `*.pramas` and `*.json` files downloaded from previous step to a tarball"
   ]
  },
  {
   "cell_type": "code",
   "execution_count": null,
   "metadata": {},
   "outputs": [],
   "source": [
    "!tar -zcvf mobilenet.tar.gz mobilenet-0000.params mobilenet-symbol.json"
   ]
  },
  {
   "cell_type": "markdown",
   "metadata": {},
   "source": [
    "### Upload model to S3 bucket."
   ]
  },
  {
   "cell_type": "code",
   "execution_count": null,
   "metadata": {},
   "outputs": [],
   "source": [
    "import logging\n",
    "import boto3\n",
    "from botocore.exceptions import ClientError\n",
    "\n",
    "def upload_file(file_name, bucket, object_name=None):\n",
    "    \"\"\"Upload a file to an S3 bucket\n",
    "\n",
    "    :param file_name: File to upload\n",
    "    :param bucket: Bucket to upload to\n",
    "    :param object_name: S3 object name. If not specified then file_name is used\n",
    "    :return: True if file was uploaded, else False\n",
    "    \"\"\"\n",
    "\n",
    "    # If S3 object_name was not specified, use file_name\n",
    "    if object_name is None:\n",
    "        object_name = file_name\n",
    "\n",
    "    # Upload the file\n",
    "    s3_client = boto3.client('s3')\n",
    "    try:\n",
    "        response = s3_client.upload_file(file_name, bucket, object_name)\n",
    "    except ClientError as e:\n",
    "        logging.error(e)\n",
    "        return False\n",
    "    return True"
   ]
  },
  {
   "cell_type": "code",
   "execution_count": null,
   "metadata": {},
   "outputs": [],
   "source": [
    "upload_file('mobilenet.tar.gz', bucket)"
   ]
  },
  {
   "cell_type": "code",
   "execution_count": null,
   "metadata": {},
   "outputs": [],
   "source": [
    "from sagemaker.mxnet.model import MXNetModel\n",
    "from sagemaker.predictor import RealTimePredictor\n",
    "\n",
    "mobilenet_model = MXNetModel(model_data='s3://path/to/your/model,\n",
    "                             image=image_url,\n",
    "                             entry_point='entry_point.py',\n",
    "                             predictor_cls=RealTimePredictor,\n",
    "                             role=role,\n",
    "                             sagemaker_session=sess,\n",
    "                             py_version='py3',\n",
    "                             framework_version=framework_version\n",
    "                            )"
   ]
  },
  {
   "cell_type": "markdown",
   "metadata": {},
   "source": [
    "## Compile pretrained model for Jetson TX2\n",
    "\n",
    "Deploy using Neo API to optimize the model performance for your target device, here I use Jetson Tx2. "
   ]
  },
  {
   "cell_type": "code",
   "execution_count": null,
   "metadata": {},
   "outputs": [],
   "source": [
    "output_path = 's3://{}/{}'.format(bucket, prefix)\n",
    "compiled_mobilenet = mobilenet_model.compile(target_instance_family='jetson_tx2', \n",
    "                                             input_shape={'data':[1,3,512,512]},\n",
    "                                             job_name='your-job-name',\n",
    "                                             role=role,\n",
    "                                             framework=framework,\n",
    "                                             output_path=output_path\n",
    "                                            )"
   ]
  },
  {
   "cell_type": "markdown",
   "metadata": {},
   "source": [
    "# Deploy compiled model on Jetson TX2"
   ]
  },
  {
   "cell_type": "markdown",
   "metadata": {},
   "source": [
    "After we have an endpoint for the model to perform inference, we will deploy the endpoint to target device and then inference with this device.\n",
    "\n",
    "## Use Greengrass API to deploy a Neo compiled model on edge device\n",
    "\n",
    "Please refer to [What is AWS IoT Greengrass](https://alpha-docs-aws.amazon.com/greengrass/latest/developerguide/what-is-gg.html) to learn more.\n",
    "\n",
    "To use Greengrass API, we need to create clients from the default boto3 session."
   ]
  },
  {
   "cell_type": "code",
   "execution_count": null,
   "metadata": {},
   "outputs": [],
   "source": [
    "GG = boto3.client('greengrass')"
   ]
  },
  {
   "cell_type": "code",
   "execution_count": null,
   "metadata": {},
   "outputs": [],
   "source": [
    "IoT = boto3.client('iot')"
   ]
  },
  {
   "cell_type": "markdown",
   "metadata": {},
   "source": [
    "#### Create a Greengrass group and configure its core"
   ]
  },
  {
   "cell_type": "code",
   "execution_count": null,
   "metadata": {},
   "outputs": [],
   "source": [
    "group = GG.create_group(Name='final_ssd_mobilenet_tx2_demo')"
   ]
  },
  {
   "cell_type": "code",
   "execution_count": null,
   "metadata": {},
   "outputs": [],
   "source": [
    "group"
   ]
  },
  {
   "cell_type": "markdown",
   "metadata": {},
   "source": [
    "Create keys and certificate for group. Keys and cerificate should be place in the right place on device to ensure communication between device and Greengrass."
   ]
  },
  {
   "cell_type": "code",
   "execution_count": null,
   "metadata": {},
   "outputs": [],
   "source": [
    "keys_cert = IoT.create_keys_and_certificate(setAsActive=True)"
   ]
  },
  {
   "cell_type": "markdown",
   "metadata": {},
   "source": [
    "Create a core for group. There can be only one core for each group."
   ]
  },
  {
   "cell_type": "code",
   "execution_count": null,
   "metadata": {},
   "outputs": [],
   "source": [
    "core_thing = IoT.create_thing(thingName=group['Name']+\"_core\")"
   ]
  },
  {
   "cell_type": "code",
   "execution_count": null,
   "metadata": {},
   "outputs": [],
   "source": [
    "core_thing"
   ]
  },
  {
   "cell_type": "markdown",
   "metadata": {},
   "source": [
    "Attach policy to core"
   ]
  },
  {
   "cell_type": "code",
   "execution_count": null,
   "metadata": {},
   "outputs": [],
   "source": [
    "IoT.attach_thing_principal(thingName=core_thing['thingName'], principal=keys_cert['certificateArn'])"
   ]
  },
  {
   "cell_type": "code",
   "execution_count": null,
   "metadata": {},
   "outputs": [],
   "source": [
    "core_policy_doc = {\n",
    "    \"Version\": \"2012-10-17\",\n",
    "    \"Statement\": [\n",
    "        {\n",
    "            \"Effect\": \"Allow\",\n",
    "            \"Action\": [\n",
    "                \"iot:Publish\",\n",
    "                \"iot:Subscribe\",\n",
    "                \"iot:Connect\",\n",
    "                \"iot:Receive\",\n",
    "                \"iot:GetThingShadow\",\n",
    "                \"iot:DeleteThingShadow\",\n",
    "                \"iot:UpdateThingShadow\"\n",
    "            ],\n",
    "            \"Resource\": [\"arn:aws:iot:\" + boto3.session.Session().region_name + \":*:*\"]\n",
    "        },\n",
    "        {\n",
    "            \"Effect\": \"Allow\",\n",
    "            \"Action\": [\n",
    "                \"greengrass:AssumeRoleForGroup\",\n",
    "                \"greengrass:CreateCertificate\",\n",
    "                \"greengrass:GetConnectivityInfo\",\n",
    "                \"greengrass:GetDeployment\",\n",
    "                \"greengrass:GetDeploymentArtifacts\",\n",
    "                \"greengrass:UpdateConnectivityInfo\",\n",
    "                \"greengrass:UpdateCoreDeploymentStatus\"\n",
    "            ],\n",
    "            \"Resource\": [\"*\"]\n",
    "        }\n",
    "    ]\n",
    "}"
   ]
  },
  {
   "cell_type": "code",
   "execution_count": null,
   "metadata": {},
   "outputs": [],
   "source": [
    "policy = IoT.create_policy(\n",
    "    policyName=\"my_core_policy_clone1\",\n",
    "    policyDocument=json.dumps(core_policy_doc)\n",
    ")"
   ]
  },
  {
   "cell_type": "code",
   "execution_count": null,
   "metadata": {},
   "outputs": [],
   "source": [
    "IoT.attach_principal_policy(\n",
    "    policyName=policy['policyName'],\n",
    "    principal=keys_cert['certificateArn']\n",
    ")"
   ]
  },
  {
   "cell_type": "code",
   "execution_count": null,
   "metadata": {},
   "outputs": [],
   "source": [
    "initial_version = {'Cores': []}\n",
    "initial_version['Cores'].append(\n",
    "    {\n",
    "        'Id': core_thing['thingName'], # Quite intuitive, eh?\n",
    "        'CertificateArn': keys_cert['certificateArn'],\n",
    "        'SyncShadow': False, # Up to you, True|False\n",
    "        'ThingArn': core_thing['thingArn']\n",
    "    }\n",
    ")"
   ]
  },
  {
   "cell_type": "code",
   "execution_count": null,
   "metadata": {},
   "outputs": [],
   "source": [
    "initial_version"
   ]
  },
  {
   "cell_type": "markdown",
   "metadata": {},
   "source": [
    "`create_core_definition()`Grants permission to create a version of an existing core definition. Greengrass groups must each contain exactly one Greengrass core."
   ]
  },
  {
   "cell_type": "code",
   "execution_count": null,
   "metadata": {},
   "outputs": [],
   "source": [
    "core_definition = GG.create_core_definition(\n",
    "    Name=\"{0}_core_def\".format(group['Name']),\n",
    "    InitialVersion=initial_version\n",
    ")"
   ]
  },
  {
   "cell_type": "code",
   "execution_count": null,
   "metadata": {
    "scrolled": false
   },
   "outputs": [],
   "source": [
    "core_definition"
   ]
  },
  {
   "cell_type": "markdown",
   "metadata": {},
   "source": [
    "#### Create a group version"
   ]
  },
  {
   "cell_type": "code",
   "execution_count": null,
   "metadata": {},
   "outputs": [],
   "source": [
    "group_ver = GG.create_group_version(\n",
    "    GroupId=group['Id'],\n",
    "    CoreDefinitionVersionArn=core_definition['LatestVersionArn']\n",
    ")"
   ]
  },
  {
   "cell_type": "code",
   "execution_count": null,
   "metadata": {
    "scrolled": true
   },
   "outputs": [],
   "source": [
    "group_ver"
   ]
  },
  {
   "cell_type": "code",
   "execution_count": null,
   "metadata": {},
   "outputs": [],
   "source": [
    "print (\"Group: https://{}.console.aws.amazon.com/iot/home?region={}#/greengrass/groups/{}\".format(region, region, group['Id']))\n",
    "print (\"Core thing: https://{0}.console.aws.amazon.com/iot/home?{0}#/thing/my_group_core_1\".format(region))\n",
    "print (\"Certificate and policy: https://{0}.console.aws.amazon.com/iot/home?region={0}#/certificate/{1}\".format(region, keys_cert['certificateArn']))"
   ]
  },
  {
   "cell_type": "code",
   "execution_count": null,
   "metadata": {},
   "outputs": [],
   "source": [
    "groupParam = {\n",
    "    'group': group,\n",
    "    'core_thing': core_thing,\n",
    "    'keys_cert': keys_cert,\n",
    "    'group_ver': group_ver,\n",
    "    'core_definition': core_definition,\n",
    "    'policy': policy\n",
    "}\n",
    "with open('./final_demo.json', 'w') as f:\n",
    "    json.dump(groupParam, f, indent=4)"
   ]
  },
  {
   "cell_type": "code",
   "execution_count": null,
   "metadata": {
    "scrolled": false
   },
   "outputs": [],
   "source": [
    "groupParam"
   ]
  },
  {
   "cell_type": "markdown",
   "metadata": {},
   "source": [
    "From the groupParam.json, export the certificate Pem and key pairs, we will copy these files to Jetson TX2 later."
   ]
  },
  {
   "cell_type": "code",
   "execution_count": null,
   "metadata": {},
   "outputs": [],
   "source": [
    "certPem = keys_cert['certificatePem']\n",
    "with open('./myCore.cert.pem', 'w') as f:\n",
    "    for line in certPem.split('\\n'):\n",
    "        f.write(line)\n",
    "        f.write('\\n')"
   ]
  },
  {
   "cell_type": "code",
   "execution_count": null,
   "metadata": {},
   "outputs": [],
   "source": [
    "public = keys_cert['keyPair']['PublicKey']\n",
    "with open('./myCore.public.key', 'w') as f:\n",
    "    for line in public.split('\\n'):\n",
    "        f.write(line)\n",
    "        f.write('\\n')"
   ]
  },
  {
   "cell_type": "code",
   "execution_count": null,
   "metadata": {},
   "outputs": [],
   "source": [
    "private = keys_cert['keyPair']['PrivateKey']\n",
    "with open('./myCore.private.key', 'w') as f:\n",
    "    for line in private.split('\\n'):\n",
    "        f.write(line)\n",
    "        f.write('\\n')"
   ]
  },
  {
   "cell_type": "code",
   "execution_count": null,
   "metadata": {},
   "outputs": [],
   "source": [
    "config = {\n",
    "  \"coreThing\" : {\n",
    "    \"caPath\" : \"root.ca.pem\",\n",
    "    \"certPath\" : \"myCore.cert.pem\",\n",
    "    \"keyPath\" : \"myCore.private.key\",\n",
    "    \"thingArn\" : core_thing[\"thingArn\"],\n",
    "    \"iotHost\" : \"a3lhyy9ngfgeht-ats.iot.us-west-2.amazonaws.com\",\n",
    "    \"ggHost\" : \"greengrass-ats.iot.us-west-2.amazonaws.com\",\n",
    "    \"keepAlive\" : 600\n",
    "  },\n",
    "  \"runtime\" : {\n",
    "    \"cgroup\" : {\n",
    "      \"useSystemd\" : \"yes\"\n",
    "    }\n",
    "  },\n",
    "  \"managedRespawn\" : False,\n",
    "  \"crypto\" : {\n",
    "    \"principals\" : {\n",
    "      \"SecretsManager\" : {\n",
    "        \"privateKeyPath\" : \"file:///greengrass/certs/myCore.private.key\"\n",
    "      },\n",
    "      \"IoTCertificate\" : {\n",
    "        \"privateKeyPath\" : \"file:///greengrass/certs/myCore.private.key\",\n",
    "        \"certificatePath\" : \"file:///greengrass/certs/myCore.cert.pem\"\n",
    "      }\n",
    "    },\n",
    "    \"caPath\" : \"file:///greengrass/certs/root.ca.pem\"\n",
    "  }\n",
    "}\n",
    "\n",
    "with open('./config.json', 'w') as f:\n",
    "    json.dump(config, f, indent=4)"
   ]
  },
  {
   "cell_type": "markdown",
   "metadata": {},
   "source": [
    "On device, under the greengrass folder, create a folder called certs, then, download the appropriate ATS root CA certificate. The following example downloads `AmazonRootCA1.pem`. \n",
    "\n",
    "`\n",
    "cd /greengrass\n",
    "mkdir certs\n",
    "mkdir config\n",
    "cd certs\n",
    "sudo wget -O root.ca.pem https://www.amazontrust.com/repository/AmazonRootCA1.pem`\n",
    "\n",
    "Copy the certificate and keys to certs folder. Copy `config.json` to config folder. \n",
    "\n",
    "Put certificates in place, adjust `config.json` according to your keys' name, and then launch the Greengrass daemon."
   ]
  },
  {
   "cell_type": "markdown",
   "metadata": {},
   "source": [
    "#### Create a Resource Definition and Version"
   ]
  },
  {
   "cell_type": "code",
   "execution_count": null,
   "metadata": {},
   "outputs": [],
   "source": [
    "resource = GG.create_resource_definition(\n",
    "    InitialVersion={\n",
    "        'Resources': [\n",
    "            {\n",
    "                'Id': 'my-ml-resource',\n",
    "                'Name': 'my-ml-resource',\n",
    "                'ResourceDataContainer': {\n",
    "                    'S3MachineLearningModelResourceData': {\n",
    "                        'DestinationPath': '/ml_model',\n",
    "                        'S3Uri': 'https://{}.s3-{}.amazonaws.com/{}'.format(bucket, region, output_path.split('//')[1])\n",
    "                    }\n",
    "                }\n",
    "            }\n",
    "        ]\n",
    "    }\n",
    ")"
   ]
  },
  {
   "cell_type": "code",
   "execution_count": null,
   "metadata": {
    "scrolled": true
   },
   "outputs": [],
   "source": [
    "resource"
   ]
  },
  {
   "cell_type": "markdown",
   "metadata": {},
   "source": [
    "#### Create a Lambda Function Deployment Package\n",
    "Before creating a Lambda function, following [AWS IoT Greengrass Software Download Links](https://alpha-docs-aws.amazon.com/greengrass/latest/downloadlinks/gg-software.html) to download AWS IoT Greengrass Core SDK Software and AWS IoT Greengrass ML SDK Software to your local machine. Unzip the downloaded package to get the SDK. The SDKs are the `greengrasssdk` and `greengrass_machine_learning_sdk` folder.\n",
    "\n",
    "We also need to create a inferece file. The inference file is very similiar to the usage example in https://docs.aws.amazon.com/greengrass/latest/developerguide/obj-detection-connector.html\n",
    "\n",
    "Zip the following items into a file named *ssd_mobilenet_mxnet_python_lambda.zip*. When creating the ZIP file, include only the code and dependencies, not the containing folder.\n",
    "\n",
    "- **inference.py**\n",
    "\n",
    "- **greengrasssdk**\n",
    "\n",
    "- **greengrass_machine_learning_sdk**\n",
    "\n",
    "- **your_test_img.jpg**\n",
    "\n",
    "This is your Lambda function deployment package.\n",
    "\n",
    "You can directly use S3 console to upload the Lambda function deployment package to the same S3 bucket which used to store the pretrained mobilenet model."
   ]
  },
  {
   "cell_type": "code",
   "execution_count": null,
   "metadata": {},
   "outputs": [],
   "source": [
    "Lambda = boto3.client('lambda')"
   ]
  },
  {
   "cell_type": "markdown",
   "metadata": {},
   "source": [
    "#### Create a Lambda Function"
   ]
  },
  {
   "cell_type": "code",
   "execution_count": null,
   "metadata": {},
   "outputs": [],
   "source": [
    "lambda_fn = Lambda.create_function(\n",
    "    FunctionName='object_detection_tx2_lambda_final_demo_clone2',\n",
    "    Runtime='python2.7',\n",
    "    Role=\"arn:aws:iam::886656810413:role/Lambda-Role\",#the AWSLambdaRole create at the begining of this tutorial\n",
    "    Handler='inference.function_handler',\n",
    "    Code={\n",
    "        'S3Bucket': bucket,\n",
    "        'S3Key': 'ssd_mobilenet_mxnet_python_lambda.zip'\n",
    "    },\n",
    "    Timeout=300,\n",
    "    MemorySize=2048,\n",
    "    Publish=True\n",
    ")"
   ]
  },
  {
   "cell_type": "code",
   "execution_count": null,
   "metadata": {
    "scrolled": true
   },
   "outputs": [],
   "source": [
    "lambda_fn"
   ]
  },
  {
   "cell_type": "markdown",
   "metadata": {},
   "source": [
    "#### Create an alias for the lambda function"
   ]
  },
  {
   "cell_type": "code",
   "execution_count": null,
   "metadata": {},
   "outputs": [],
   "source": [
    "alias = Lambda.create_alias(\n",
    "    FunctionName=lambda_fn['FunctionName'],\n",
    "    Name='tx2_demo',\n",
    "    FunctionVersion='1'\n",
    ")"
   ]
  },
  {
   "cell_type": "code",
   "execution_count": null,
   "metadata": {},
   "outputs": [],
   "source": [
    "alias"
   ]
  },
  {
   "cell_type": "markdown",
   "metadata": {},
   "source": [
    "#### Create a Function Definition and Version"
   ]
  },
  {
   "cell_type": "code",
   "execution_count": null,
   "metadata": {},
   "outputs": [],
   "source": [
    "lambda_fn = GG.create_function_definition(\n",
    "    InitialVersion={\n",
    "        'DefaultConfig': {\n",
    "            'Execution': {\n",
    "                'IsolationMode': 'GreengrassContainer'\n",
    "            }\n",
    "        },\n",
    "        'Functions': [\n",
    "            {\n",
    "                'FunctionArn': alias['AliasArn'],\n",
    "                'FunctionConfiguration': {\n",
    "                    'EncodingType': 'binary',\n",
    "                    'Environment': {\n",
    "                        'AccessSysfs': True,\n",
    "                        'Execution': {\n",
    "                            'IsolationMode': 'GreengrassContainer',\n",
    "                        },\n",
    "                        'ResourceAccessPolicies': [\n",
    "                            {\n",
    "                                'Permission': 'rw',\n",
    "                                'ResourceId': 'my-ml-resource'\n",
    "                            },\n",
    "                        ]\n",
    "                    },\n",
    "                    'Executable': 'inference.py',\n",
    "                    'MemorySize': 500000,\n",
    "                    'Pinned': True,\n",
    "                    'Timeout': 300\n",
    "                },\n",
    "                'Id': 'ObjectDetection'\n",
    "            },\n",
    "        ]\n",
    "    },\n",
    "    Name='objectDetection' #the name should match the ServiceName inside lambda function\n",
    ")"
   ]
  },
  {
   "cell_type": "code",
   "execution_count": null,
   "metadata": {
    "scrolled": true
   },
   "outputs": [],
   "source": [
    "lambda_fn"
   ]
  },
  {
   "cell_type": "markdown",
   "metadata": {},
   "source": [
    "#### Create a Connector Definition and Version. \n",
    "\n",
    "In this project, we use a ML Object Detection connector to perform object detection. The ML Object Detection connectors are bundled with the Amazon SageMaker Neo deep learning runtime (DLR). The connectors use the runtime to serve the ML model. To use these connectors, you must install the dependencies for the DLR on your core device. [Installing Neo Deep Learning Runtime Dependencies on the AWS IoT Greengrass Core](https://alpha-docs-aws.amazon.com/greengrass/latest/developerguide/obj-detection-connector.html#obj-detection-connector-config)"
   ]
  },
  {
   "cell_type": "code",
   "execution_count": null,
   "metadata": {
    "scrolled": true
   },
   "outputs": [],
   "source": [
    "connector = GG.create_connector_definition(\n",
    "    InitialVersion={\n",
    "        'Connectors':[\n",
    "            {\n",
    "                \"Id\": \"ObjectDetectionConnectorTX2\",\n",
    "                #object detection connector for tx2\n",
    "                \"ConnectorArn\": \"arn:aws:greengrass:{}::/connectors/ObjectDetectionAarch64JTX2/versions/1\".format(region), \n",
    "                \"Parameters\": {\n",
    "                    \"MLModelDestinationPath\": \"/ml_model\",\n",
    "                    \"MLModelResourceId\": \"my-ml-resource\",\n",
    "                    \"LocalInferenceServiceName\": \"objectDetection\",\n",
    "                    \"LocalInferenceServiceTimeoutSeconds\": \"300\", \n",
    "                    \"LocalInferenceServiceMemoryLimitKB\": \"500000\",\n",
    "                    \"GPUAcceleration\": \"GPU\"\n",
    "                }\n",
    "            }\n",
    "        ]\n",
    "    }\n",
    ")\n",
    "connector"
   ]
  },
  {
   "cell_type": "markdown",
   "metadata": {},
   "source": [
    "#### Update the group version"
   ]
  },
  {
   "cell_type": "code",
   "execution_count": null,
   "metadata": {},
   "outputs": [],
   "source": [
    "group_ver = GG.create_group_version(\n",
    "    ConnectorDefinitionVersionArn=connector['LatestVersionArn'],\n",
    "    CoreDefinitionVersionArn=core_definition['LatestVersionArn'],\n",
    "    FunctionDefinitionVersionArn=lambda_fn['LatestVersionArn'],\n",
    "    GroupId=group['Id'],\n",
    "    ResourceDefinitionVersionArn=resource['LatestVersionArn']\n",
    ")"
   ]
  },
  {
   "cell_type": "code",
   "execution_count": null,
   "metadata": {
    "scrolled": true
   },
   "outputs": [],
   "source": [
    "group_ver"
   ]
  },
  {
   "cell_type": "markdown",
   "metadata": {},
   "source": [
    "#### Create a deployment\n",
    "Before deploy, make sure the greengrass deamon is running on device.\n",
    "\n",
    "`ps aux | grep -E 'greengrass.*daemon'`"
   ]
  },
  {
   "cell_type": "code",
   "execution_count": null,
   "metadata": {},
   "outputs": [],
   "source": [
    "deploy = GG.create_deployment(\n",
    "    DeploymentType='NewDeployment',\n",
    "    GroupId=group['Id'],\n",
    "    GroupVersionId=group_ver['Version']\n",
    ")"
   ]
  },
  {
   "cell_type": "code",
   "execution_count": null,
   "metadata": {},
   "outputs": [],
   "source": [
    "deploy"
   ]
  },
  {
   "cell_type": "markdown",
   "metadata": {},
   "source": [
    "#### Get the deployment status.\n",
    "The deployment may take a few minutes, check the status periodically until success."
   ]
  },
  {
   "cell_type": "code",
   "execution_count": null,
   "metadata": {},
   "outputs": [],
   "source": [
    "while True:\n",
    "    status = GG.get_deployment_status(\n",
    "        DeploymentId=deploy['DeploymentId'],\n",
    "        GroupId=group['Id']\n",
    "    )\n",
    "    if status['DeploymentStatus'] == 'Success':\n",
    "        break\n",
    "    elif status['DeploymentStatus'] == 'Failed':\n",
    "        raise RuntimeError('Deployment Failed')\n",
    "    print('Deploy ...')\n",
    "    time.sleep(30)\n",
    "print('Done!')"
   ]
  }
 ],
 "metadata": {
  "kernelspec": {
   "display_name": "conda_mxnet_p36",
   "language": "python",
   "name": "conda_mxnet_p36"
  },
  "language_info": {
   "codemirror_mode": {
    "name": "ipython",
    "version": 3
   },
   "file_extension": ".py",
   "mimetype": "text/x-python",
   "name": "python",
   "nbconvert_exporter": "python",
   "pygments_lexer": "ipython3",
   "version": "3.6.5"
  }
 },
 "nbformat": 4,
 "nbformat_minor": 2
}
